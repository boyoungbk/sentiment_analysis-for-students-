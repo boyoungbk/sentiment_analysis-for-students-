{
  "nbformat": 4,
  "nbformat_minor": 0,
  "metadata": {
    "colab": {
      "name": "성찰일지 감성분석(2) - 감성분석과 시각화.ipynb",
      "provenance": [],
      "private_outputs": true,
      "collapsed_sections": [],
      "authorship_tag": "ABX9TyP/Ux4dIqGy9linTd8gfwH9",
      "include_colab_link": true
    },
    "kernelspec": {
      "name": "ir",
      "display_name": "R"
    }
  },
  "cells": [
    {
      "cell_type": "markdown",
      "metadata": {
        "id": "view-in-github",
        "colab_type": "text"
      },
      "source": [
        "<a href=\"https://colab.research.google.com/github/boyoungbk/sentiment_analysis-for_students-/blob/main/%EC%84%B1%EC%B0%B0%EC%9D%BC%EC%A7%80_%EA%B0%90%EC%84%B1%EB%B6%84%EC%84%9D(2)_%EA%B0%90%EC%84%B1%EB%B6%84%EC%84%9D%EA%B3%BC_%EC%8B%9C%EA%B0%81%ED%99%94.ipynb\" target=\"_parent\"><img src=\"https://colab.research.google.com/assets/colab-badge.svg\" alt=\"Open In Colab\"/></a>"
      ]
    },
    {
      "cell_type": "code",
      "metadata": {
        "id": "Pyi1erin40mO"
      },
      "source": [
        "date <- readLine('날짜를 입력하세요. 예) 2020-11-11')\n",
        "print(date)"
      ],
      "execution_count": null,
      "outputs": []
    },
    {
      "cell_type": "markdown",
      "metadata": {
        "id": "m7AYQz0h43kf"
      },
      "source": [
        "# 감성사전으로 빈도수 계산하기\n",
        "## 감성사전\n",
        "* [KNU 한국어 감성사전](https://github.com/park1200656/KnuSentiLex)\n",
        "* [감성어 사전 구축](https://projectlog-eraser.tistory.com/19)\n",
        "http://dbcafe.co.kr/wiki/index.php/%EB%A8%B8%EC%8B%A0%EB%9F%AC%EB%8B%9D_%EA%B0%90%EC%A0%95%EB%B6%84%EC%84%9D"
      ]
    },
    {
      "cell_type": "code",
      "metadata": {
        "id": "9hZLHgsk45j7"
      },
      "source": [
        "# 군산대 감성사전 설치\n",
        "!git clone https://github.com/park1200656/KnuSentiLex.git"
      ],
      "execution_count": null,
      "outputs": []
    }
  ]
}