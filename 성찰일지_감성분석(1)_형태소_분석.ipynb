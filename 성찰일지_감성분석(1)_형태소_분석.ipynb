{
  "nbformat": 4,
  "nbformat_minor": 0,
  "metadata": {
    "colab": {
      "name": "성찰일지 감성분석(1) - 형태소 분석.ipynb",
      "provenance": [],
      "collapsed_sections": [],
      "toc_visible": true,
      "mount_file_id": "157BYEaOouWvtq-Yv-MFOSIEKy4vu9H2S",
      "authorship_tag": "ABX9TyNrlO3aP/joDqqRe0gEQvAF",
      "include_colab_link": true
    },
    "kernelspec": {
      "name": "python3",
      "display_name": "Python 3"
    },
    "accelerator": "GPU"
  },
  "cells": [
    {
      "cell_type": "markdown",
      "metadata": {
        "id": "view-in-github",
        "colab_type": "text"
      },
      "source": [
        "<a href=\"https://colab.research.google.com/github/boyoungbk/sentiment_analysis-for_students-/blob/main/%EC%84%B1%EC%B0%B0%EC%9D%BC%EC%A7%80_%EA%B0%90%EC%84%B1%EB%B6%84%EC%84%9D(1)_%ED%98%95%ED%83%9C%EC%86%8C_%EB%B6%84%EC%84%9D.ipynb\" target=\"_parent\"><img src=\"https://colab.research.google.com/assets/colab-badge.svg\" alt=\"Open In Colab\"/></a>"
      ]
    },
    {
      "cell_type": "markdown",
      "metadata": {
        "id": "ixo2wDmP9Ce3"
      },
      "source": [
        "#**성찰일지 긍정+부정 분석**\n",
        "\n",
        "## AI교육방법 및 교육공학 세미나 리드 - AI 평가\n",
        "발표일: 2020. 11. 18.(수)\n",
        "\n",
        "\n",
        "```\n",
        "<< 런타임 실행 전 >>\n",
        "1. Colab에서 런타임 - 런타임 유형 변경 - 하드웨어 가속기를 GPU로 선택\n",
        "\n",
        "```\n",
        "\n"
      ]
    },
    {
      "cell_type": "markdown",
      "metadata": {
        "id": "VFFciKWtoDuI"
      },
      "source": [
        "# 1. 구글 드라이브와 Colab 연동\n",
        "* [코랩(Colab)에서 구글 드라이브 마운트하여 데이터 분석에 활용하기](\n",
        "https://m.blog.naver.com/chogar/221667083331)"
      ]
    },
    {
      "cell_type": "code",
      "metadata": {
        "id": "odgaUMkt2wMJ"
      },
      "source": [
        "import os"
      ],
      "execution_count": null,
      "outputs": []
    },
    {
      "cell_type": "code",
      "metadata": {
        "id": "Y9yCILOPnc8X",
        "outputId": "12d20b51-5537-444e-b412-b37f1344ef25",
        "colab": {
          "base_uri": "https://localhost:8080/"
        }
      },
      "source": [
        "# 구글 drive와 Colab 연동 (코드 실행 후 링크 클릭하고 인증키 입력하세요.)\n",
        "from google.colab import drive\n",
        "drive.mount('/content/gdrive', force_remount = True)"
      ],
      "execution_count": 20,
      "outputs": [
        {
          "output_type": "stream",
          "text": [
            "Mounted at /content/gdrive\n"
          ],
          "name": "stdout"
        }
      ]
    },
    {
      "cell_type": "code",
      "metadata": {
        "id": "6pTDB_LGoaOh",
        "outputId": "65e13b75-0e2d-4c32-de9c-adaf096fdfda",
        "colab": {
          "base_uri": "https://localhost:8080/"
        }
      },
      "source": [
        "# 구글 드라이브 경로 지정\n",
        "os.listdir('/content/gdrive/My Drive/Colab Notebooks/sentiment_analysis')"
      ],
      "execution_count": 25,
      "outputs": [
        {
          "output_type": "execute_result",
          "data": {
            "text/plain": [
              "['성찰일지 감성분석(1) - 형태소 분석.ipynb',\n",
              " 'txt_folder',\n",
              " 'txt_nouns',\n",
              " '(성찰수업) 나를 표현하는 키워드.gform',\n",
              " '성찰일지 감성분석(2) - 감성분석과 시각화.ipynb',\n",
              " '성찰일지 감성분석(2) - 감성사전 분석 후 시각화.ipynb']"
            ]
          },
          "metadata": {
            "tags": []
          },
          "execution_count": 25
        }
      ]
    },
    {
      "cell_type": "code",
      "metadata": {
        "id": "crx56Agj239f"
      },
      "source": [
        "# 필요한 폴더 만들기"
      ],
      "execution_count": null,
      "outputs": []
    },
    {
      "cell_type": "markdown",
      "metadata": {
        "id": "ndG3-VCM7Nir"
      },
      "source": [
        "## ※ 한글 폰트 설치하기 (파이썬으로 시각화 하실 분 사용하세요)\n",
        "* [구글 코랩(colab) 한글 깨짐 현상 해결방법](https://teddylee777.github.io/colab/colab-korean)\n",
        "1. STEP 1. 나눔 폰트 설치 (Nanum)\n",
        "2. STEP 2. 코랩(Colab)의 런타임을 재시작 합니다. == [런타임]-[런타임 다시 시작]\n",
        "3. STEP 3. matplotlib의 폰트를 Nanum 폰트로 지정\n"
      ]
    },
    {
      "cell_type": "code",
      "metadata": {
        "id": "vtPNb2Xn7QWr"
      },
      "source": [
        "# # 나눔 폰트 설치 (Nanum)\n",
        "# !sudo apt-get install -y fonts-nanum\n",
        "# !sudo fc-cache -fv\n",
        "# !rm ~/.cache/matplotlib -rf\n",
        "\n",
        "# # STEP 3. matplotlib의 폰트를 Nanum 폰트로 지정\n",
        "# import matplotlib.pyplot as plt\n",
        "# plt.rc('font', family='NanumBarunGothic') "
      ],
      "execution_count": null,
      "outputs": []
    },
    {
      "cell_type": "markdown",
      "metadata": {
        "id": "4633Y_8etxE3"
      },
      "source": [
        "# 2. 구글 스프레드시트 파일 불러오기\n",
        "* [외부 데이터: 로컬 파일, 드라이브, 스프레드시트, Cloud Storage](https://colab.research.google.com/notebooks/io.ipynb#scrollTo=qzi9VsEqzI-o)\n",
        "* [Google Spreadsheets Python API v4\n",
        "](https://github.com/burnash/gspread#more-examples)"
      ]
    },
    {
      "cell_type": "code",
      "metadata": {
        "id": "GxHCLkFkt7mO"
      },
      "source": [
        "!pip install gspread"
      ],
      "execution_count": null,
      "outputs": []
    },
    {
      "cell_type": "code",
      "metadata": {
        "id": "lpMbQL1DuF5w"
      },
      "source": [
        "# colab에 권한부여하고 gspread 라이브러리를 사용해 Google 스프레드시트와 상호작용\n",
        "from google.colab import auth\n",
        "auth.authenticate_user()\n",
        "\n",
        "import gspread\n",
        "from oauth2client.client import GoogleCredentials\n",
        "\n",
        "gc = gspread.authorize(GoogleCredentials.get_application_default())"
      ],
      "execution_count": null,
      "outputs": []
    },
    {
      "cell_type": "code",
      "metadata": {
        "id": "CYLMwWXV3Crv"
      },
      "source": [
        "# 스프레드시트를 데이터프레임 pandas로 불러오기\n",
        "import pandas as pd"
      ],
      "execution_count": null,
      "outputs": []
    },
    {
      "cell_type": "markdown",
      "metadata": {
        "id": "A7TsWMEC3Qoh"
      },
      "source": [
        "**txt_folder의 스프레드 시트 파일 주소 수정하세요!**"
      ]
    },
    {
      "cell_type": "code",
      "metadata": {
        "id": "6J72j_6IAROg"
      },
      "source": [
        "# 스프레드시트 파일 주소 입력\n",
        "sht = gc.open_by_url('https://docs.google.com/spreadsheets/d/1-yiaahewjYvDwEGGKTOk2DgcCv97FS5rtE-m6ADWNo4/edit#gid=2020793792')\n",
        "\n",
        "# 첫번째 시트 불러오기\n",
        "sheet = sht.get_worksheet(0)\n",
        "df = pd.DataFrame(sheet.get_all_records()) \n",
        "df.head()\n",
        "\n",
        "# 모든 row를 list로 불러오기\n",
        "# txt_data = worksheet.get_all_values()"
      ],
      "execution_count": null,
      "outputs": []
    },
    {
      "cell_type": "markdown",
      "metadata": {
        "id": "o3EIk-Rm2MqF"
      },
      "source": [
        "# 3. 형태소 분석기로 텍스트 데이터 토큰화하기\n",
        "## 형태소 분석기 사용방법 (KoNLPy의 Mecab)\n",
        "* [KoNLPy](https://github.com/konlpy/konlpy)\n",
        "* [Google Colab에서 Mecab-ko-dic 쉽게 사용하기](https://somjang.tistory.com/entry/Google-Colab%EC%97%90%EC%84%9C-Mecab-koMecab-ko-dic-%EC%89%BD%EA%B2%8C-%EC%82%AC%EC%9A%A9%ED%95%98%EA%B8%B0)\n",
        "* [Google Colab에서 mecab-ko-dic 사용자 사전 추가하기](https://somjang.tistory.com/entry/Google-Colab%EC%97%90%EC%84%9C-mecab-ko-dic-%EC%82%AC%EC%9A%A9%EC%9E%90-%EC%82%AC%EC%A0%84-%EC%B6%94%EA%B0%80%ED%95%98%EA%B8%B0)\n",
        "* [Mecab 품사 태그 분류](https://docs.google.com/spreadsheets/d/1OGAjUvalBuX-oZvZ_-9tEfYD2gQe7hTGsgUpiiBSXI8/edit#gid=0)\n"
      ]
    },
    {
      "cell_type": "markdown",
      "metadata": {
        "id": "l5vpB9fVTOXD"
      },
      "source": [
        "Mecab 설치 이유"
      ]
    },
    {
      "cell_type": "code",
      "metadata": {
        "id": "B3p903pYrbBb"
      },
      "source": [
        "# KoNLPy의 Mecab 설치\n",
        "# 1. git clone으로 저장소 가져오기\n",
        "!git clone https://github.com/SOMJANG/Mecab-ko-for-Google-Colab.git\n",
        "\n",
        "# mecab 설치 폴더 선택하고 shell script 실행\n",
        "os.chdir('Mecab-ko-for-Google-Colab')\n",
        "!bash install_mecab-ko_on_colab190912.sh"
      ],
      "execution_count": null,
      "outputs": []
    },
    {
      "cell_type": "code",
      "metadata": {
        "id": "1vsFbwOLQDRi"
      },
      "source": [
        "# KoNLPy의 Mecab 형태소 분석기 import하고 텍스트데이터 토큰화하기\n",
        "from konlpy.tag import Mecab\n",
        "mecab = Mecab()\n",
        "\n",
        "#텍스트에 포함되어 있는 특수 문자 제거\n",
        "def clean_text(text):\n",
        "  tidy_text = re.sub('[-=+,#/\\?:^$.@*\\\"※~&%ㆍ!』\\\\‘|\\(\\)\\[\\]\\<\\>`\\'…》]', '', text) \n",
        "  return tidy_text\n",
        "\n",
        "\n",
        "# 불용어 처리 (자유롭게 추가해주세요.)\n",
        "stopwords = ['때문', '가지']\n",
        "\n",
        "# 형태소분석 함수 (2글자 이상 단어 & 불용어 제외)\n",
        "def tokenizer(text):\n",
        "  nouns2 = []\n",
        "  tidy_text = clean_text(text)\n",
        "  nouns = mecab.nouns(text)\n",
        "  for noun in nouns:\n",
        "    if len(noun) > 1 and noun not in stopwords:\n",
        "      nouns2.append(noun)\n",
        "  return nouns2"
      ],
      "execution_count": null,
      "outputs": []
    },
    {
      "cell_type": "code",
      "metadata": {
        "id": "APIc2DZWC41H"
      },
      "source": [
        "# 토큰화 예제\n",
        "text = u'''AI교육공학과 교육방법 정말 유익하고 재미있습니다. ^^ 감사합니다.'''\n",
        "tokenizer(text)"
      ],
      "execution_count": null,
      "outputs": []
    },
    {
      "cell_type": "code",
      "metadata": {
        "id": "Mky5hYXaC_ti"
      },
      "source": [
        "# df 데이터프레임에 토큰화한 단어 리스트 추가\n",
        "# 열 삭제 하고 싶으실 때 == del df['삭제하고 싶은 열 이름']\n",
        "df['단어 리스트'] = df['성찰일지'].apply(tokenizer)\n",
        "df.head()"
      ],
      "execution_count": null,
      "outputs": []
    },
    {
      "cell_type": "code",
      "metadata": {
        "id": "6GlTFr1ylKXB"
      },
      "source": [
        "# 날짜 태깅\n",
        "from datetime import date\n",
        "today = date.today().isoformat()"
      ],
      "execution_count": null,
      "outputs": []
    },
    {
      "cell_type": "code",
      "metadata": {
        "id": "am_deq-hymJu"
      },
      "source": [
        "# 형태소 분석 프레임 저장\n",
        "df.to_csv(f'/content/gdrive/My Drive/Colab Notebooks/sentiment_analysis/txt_nouns/({today})성찰일지 분석.csv')"
      ],
      "execution_count": null,
      "outputs": []
    }
  ]
}