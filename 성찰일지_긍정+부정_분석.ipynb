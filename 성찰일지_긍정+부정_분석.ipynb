{
  "nbformat": 4,
  "nbformat_minor": 0,
  "metadata": {
    "colab": {
      "name": "성찰일지 긍정+부정 분석.ipynb",
      "provenance": [],
      "toc_visible": true,
      "authorship_tag": "ABX9TyOELUkwLdxWf5KkrW/pxucH",
      "include_colab_link": true
    },
    "kernelspec": {
      "name": "python3",
      "display_name": "Python 3"
    }
  },
  "cells": [
    {
      "cell_type": "markdown",
      "metadata": {
        "id": "view-in-github",
        "colab_type": "text"
      },
      "source": [
        "<a href=\"https://colab.research.google.com/github/boyoungbk/sentiment_analysis-for-students-/blob/main/%EC%84%B1%EC%B0%B0%EC%9D%BC%EC%A7%80_%EA%B8%8D%EC%A0%95%2B%EB%B6%80%EC%A0%95_%EB%B6%84%EC%84%9D.ipynb\" target=\"_parent\"><img src=\"https://colab.research.google.com/assets/colab-badge.svg\" alt=\"Open In Colab\"/></a>"
      ]
    },
    {
      "cell_type": "markdown",
      "metadata": {
        "id": "VFFciKWtoDuI"
      },
      "source": [
        "# 구글 드라이브와 Colab 연동"
      ]
    },
    {
      "cell_type": "code",
      "metadata": {
        "id": "Y9yCILOPnc8X",
        "outputId": "b614298f-6b3a-46b5-fa98-f0bbecb49f13",
        "colab": {
          "base_uri": "https://localhost:8080/"
        }
      },
      "source": [
        "import os\n",
        "from google.colab import drive\n",
        "drive.mount('/content/gdrive/')"
      ],
      "execution_count": null,
      "outputs": [
        {
          "output_type": "stream",
          "text": [
            "Drive already mounted at /content/gdrive/; to attempt to forcibly remount, call drive.mount(\"/content/gdrive/\", force_remount=True).\n"
          ],
          "name": "stdout"
        }
      ]
    },
    {
      "cell_type": "code",
      "metadata": {
        "id": "6pTDB_LGoaOh",
        "outputId": "01530cd2-9ac9-4662-df36-16ece209cb4a",
        "colab": {
          "base_uri": "https://localhost:8080/",
          "height": 190
        }
      },
      "source": [
        "# 구글 드라이브 경로 지정\n",
        "os.listdir('gdirve/My Drive/Colab Notebooks/sentiment_analysis')"
      ],
      "execution_count": null,
      "outputs": [
        {
          "output_type": "error",
          "ename": "FileNotFoundError",
          "evalue": "ignored",
          "traceback": [
            "\u001b[0;31m---------------------------------------------------------------------------\u001b[0m",
            "\u001b[0;31mFileNotFoundError\u001b[0m                         Traceback (most recent call last)",
            "\u001b[0;32m<ipython-input-8-4077d709ef7c>\u001b[0m in \u001b[0;36m<module>\u001b[0;34m()\u001b[0m\n\u001b[1;32m      1\u001b[0m \u001b[0;31m# 구글 드라이브 경로 지정\u001b[0m\u001b[0;34m\u001b[0m\u001b[0;34m\u001b[0m\u001b[0;34m\u001b[0m\u001b[0m\n\u001b[0;32m----> 2\u001b[0;31m \u001b[0mos\u001b[0m\u001b[0;34m.\u001b[0m\u001b[0mlistdir\u001b[0m\u001b[0;34m(\u001b[0m\u001b[0;34m'gdirve/My Drive/Colab Notebooks/sentiment_analysis'\u001b[0m\u001b[0;34m)\u001b[0m\u001b[0;34m\u001b[0m\u001b[0;34m\u001b[0m\u001b[0m\n\u001b[0m",
            "\u001b[0;31mFileNotFoundError\u001b[0m: [Errno 2] No such file or directory: 'gdirve/My Drive/Colab Notebooks/sentiment_analysis'"
          ]
        }
      ]
    },
    {
      "cell_type": "code",
      "metadata": {
        "id": "frwrvEH-pkCp"
      },
      "source": [
        "# 파이썬에서 r 오브젝트 실행하게 해주는 모듈\n",
        "# https://cloud.google.com/ai-platform/notebooks/docs/r-python-same-notebook?hl=ko\n",
        "import rpy2.robjects as robjects"
      ],
      "execution_count": null,
      "outputs": []
    },
    {
      "cell_type": "code",
      "metadata": {
        "id": "B3p903pYrbBb",
        "outputId": "b289e2e6-b1d2-4470-b28d-8fd2459dd572",
        "colab": {
          "base_uri": "https://localhost:8080/"
        }
      },
      "source": [
        "# huggingface 패키지를 colab에 설치\n",
        "!pip install tranformers"
      ],
      "execution_count": null,
      "outputs": [
        {
          "output_type": "stream",
          "text": [
            "\u001b[31mERROR: Could not find a version that satisfies the requirement tranformers (from versions: none)\u001b[0m\n",
            "\u001b[31mERROR: No matching distribution found for tranformers\u001b[0m\n"
          ],
          "name": "stdout"
        }
      ]
    }
  ]
}